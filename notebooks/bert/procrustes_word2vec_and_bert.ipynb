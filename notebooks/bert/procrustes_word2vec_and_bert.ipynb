{
  "nbformat": 4,
  "nbformat_minor": 0,
  "metadata": {
    "colab": {
      "name": "A Visual Notebook to Using BERT for the First Time.ipynb",
      "provenance": [],
      "machine_shape": "hm",
      "toc_visible": true,
      "include_colab_link": true
    },
    "kernelspec": {
      "name": "python3",
      "display_name": "Python 3"
    }
  },
  "cells": [
    {
      "cell_type": "markdown",
      "metadata": {
        "id": "view-in-github",
        "colab_type": "text"
      },
      "source": [
        "<a href=\"https://colab.research.google.com/github/drussellmrichie/embeddings_and_optimal_experimental_design/blob/main/notebooks/bert/procrustes_word2vec_and_bert.ipynb\" target=\"_parent\"><img src=\"https://colab.research.google.com/assets/colab-badge.svg\" alt=\"Open In Colab\"/></a>"
      ]
    },
    {
      "cell_type": "markdown",
      "metadata": {
        "id": "izA3-6kffbdT"
      },
      "source": [
        "# A Visual Notebook to Using BERT for the First TIme.ipynb\n",
        "\n",
        "\n",
        "\n",
        "<img src=\"https://jalammar.github.io/images/distilBERT/bert-distilbert-sentence-classification.png\" />\n",
        "\n",
        "In this notebook, we will use pre-trained deep learning model to process some text. We will then use the output of that model to classify the text. The text is a list of sentences from film reviews. And we will classify each sentence as either speaking \"positively\" about its subject or \"negatively\".\n",
        "\n",
        "## Models: Sentence Sentiment Classification\n",
        "Our goal is to create a model that takes a sentence (just like the ones in our dataset) and produces either 1 (indicating the sentence carries a positive sentiment) or a 0 (indicating the sentence carries a negative sentiment). We can think of it as looking like this:\n",
        "\n",
        "<img src=\"https://jalammar.github.io/images/distilBERT/sentiment-classifier-1.png\" />\n",
        "\n",
        "Under the hood, the model is actually made up of two model.\n",
        "\n",
        "* DistilBERT processes the sentence and passes along some information it extracted from it on to the next model. DistilBERT is a smaller version of BERT developed and open sourced by the team at HuggingFace. It’s a lighter and faster version of BERT that roughly matches its performance.\n",
        "* The next model, a basic Logistic Regression model from scikit learn will take in the result of DistilBERT’s processing, and classify the sentence as either positive or negative (1 or 0, respectively).\n",
        "\n",
        "The data we pass between the two models is a vector of size 768. We can think of this of vector as an embedding for the sentence that we can use for classification.\n",
        "\n",
        "\n",
        "<img src=\"https://jalammar.github.io/images/distilBERT/distilbert-bert-sentiment-classifier.png\" />\n",
        "\n",
        "## Dataset\n",
        "The dataset we will use in this example is [SST2](https://nlp.stanford.edu/sentiment/index.html), which contains sentences from movie reviews, each labeled as either positive (has the value 1) or negative (has the value 0):\n",
        "\n",
        "\n",
        "<table class=\"features-table\">\n",
        "  <tr>\n",
        "    <th class=\"mdc-text-light-green-600\">\n",
        "    sentence\n",
        "    </th>\n",
        "    <th class=\"mdc-text-purple-600\">\n",
        "    label\n",
        "    </th>\n",
        "  </tr>\n",
        "  <tr>\n",
        "    <td class=\"mdc-bg-light-green-50\" style=\"text-align:left\">\n",
        "      a stirring , funny and finally transporting re imagining of beauty and the beast and 1930s horror films\n",
        "    </td>\n",
        "    <td class=\"mdc-bg-purple-50\">\n",
        "      1\n",
        "    </td>\n",
        "  </tr>\n",
        "  <tr>\n",
        "    <td class=\"mdc-bg-light-green-50\" style=\"text-align:left\">\n",
        "      apparently reassembled from the cutting room floor of any given daytime soap\n",
        "    </td>\n",
        "    <td class=\"mdc-bg-purple-50\">\n",
        "      0\n",
        "    </td>\n",
        "  </tr>\n",
        "  <tr>\n",
        "    <td class=\"mdc-bg-light-green-50\" style=\"text-align:left\">\n",
        "      they presume their audience won't sit still for a sociology lesson\n",
        "    </td>\n",
        "    <td class=\"mdc-bg-purple-50\">\n",
        "      0\n",
        "    </td>\n",
        "  </tr>\n",
        "  <tr>\n",
        "    <td class=\"mdc-bg-light-green-50\" style=\"text-align:left\">\n",
        "      this is a visually stunning rumination on love , memory , history and the war between art and commerce\n",
        "    </td>\n",
        "    <td class=\"mdc-bg-purple-50\">\n",
        "      1\n",
        "    </td>\n",
        "  </tr>\n",
        "  <tr>\n",
        "    <td class=\"mdc-bg-light-green-50\" style=\"text-align:left\">\n",
        "      jonathan parker 's bartleby should have been the be all end all of the modern office anomie films\n",
        "    </td>\n",
        "    <td class=\"mdc-bg-purple-50\">\n",
        "      1\n",
        "    </td>\n",
        "  </tr>\n",
        "</table>\n",
        "\n",
        "## Installing the transformers library\n",
        "Let's start by installing the huggingface transformers library so we can load our deep learning NLP model."
      ]
    },
    {
      "cell_type": "code",
      "metadata": {
        "id": "To9ENLU90WGl",
        "outputId": "a35ec4df-b76b-48dd-dba2-0cb8e7a6fff5",
        "colab": {
          "base_uri": "https://localhost:8080/"
        }
      },
      "source": [
        "!pip install transformers"
      ],
      "execution_count": 1,
      "outputs": [
        {
          "output_type": "stream",
          "name": "stdout",
          "text": [
            "Looking in indexes: https://pypi.org/simple, https://us-python.pkg.dev/colab-wheels/public/simple/\n",
            "Collecting transformers\n",
            "  Downloading transformers-4.25.1-py3-none-any.whl (5.8 MB)\n",
            "\u001b[K     |████████████████████████████████| 5.8 MB 12.1 MB/s \n",
            "\u001b[?25hCollecting tokenizers!=0.11.3,<0.14,>=0.11.1\n",
            "  Downloading tokenizers-0.13.2-cp38-cp38-manylinux_2_17_x86_64.manylinux2014_x86_64.whl (7.6 MB)\n",
            "\u001b[K     |████████████████████████████████| 7.6 MB 59.8 MB/s \n",
            "\u001b[?25hRequirement already satisfied: tqdm>=4.27 in /usr/local/lib/python3.8/dist-packages (from transformers) (4.64.1)\n",
            "Requirement already satisfied: packaging>=20.0 in /usr/local/lib/python3.8/dist-packages (from transformers) (21.3)\n",
            "Requirement already satisfied: numpy>=1.17 in /usr/local/lib/python3.8/dist-packages (from transformers) (1.21.6)\n",
            "Requirement already satisfied: regex!=2019.12.17 in /usr/local/lib/python3.8/dist-packages (from transformers) (2022.6.2)\n",
            "Requirement already satisfied: requests in /usr/local/lib/python3.8/dist-packages (from transformers) (2.23.0)\n",
            "Requirement already satisfied: pyyaml>=5.1 in /usr/local/lib/python3.8/dist-packages (from transformers) (6.0)\n",
            "Requirement already satisfied: filelock in /usr/local/lib/python3.8/dist-packages (from transformers) (3.8.0)\n",
            "Collecting huggingface-hub<1.0,>=0.10.0\n",
            "  Downloading huggingface_hub-0.11.1-py3-none-any.whl (182 kB)\n",
            "\u001b[K     |████████████████████████████████| 182 kB 61.6 MB/s \n",
            "\u001b[?25hRequirement already satisfied: typing-extensions>=3.7.4.3 in /usr/local/lib/python3.8/dist-packages (from huggingface-hub<1.0,>=0.10.0->transformers) (4.4.0)\n",
            "Requirement already satisfied: pyparsing!=3.0.5,>=2.0.2 in /usr/local/lib/python3.8/dist-packages (from packaging>=20.0->transformers) (3.0.9)\n",
            "Requirement already satisfied: idna<3,>=2.5 in /usr/local/lib/python3.8/dist-packages (from requests->transformers) (2.10)\n",
            "Requirement already satisfied: urllib3!=1.25.0,!=1.25.1,<1.26,>=1.21.1 in /usr/local/lib/python3.8/dist-packages (from requests->transformers) (1.24.3)\n",
            "Requirement already satisfied: chardet<4,>=3.0.2 in /usr/local/lib/python3.8/dist-packages (from requests->transformers) (3.0.4)\n",
            "Requirement already satisfied: certifi>=2017.4.17 in /usr/local/lib/python3.8/dist-packages (from requests->transformers) (2022.9.24)\n",
            "Installing collected packages: tokenizers, huggingface-hub, transformers\n",
            "Successfully installed huggingface-hub-0.11.1 tokenizers-0.13.2 transformers-4.25.1\n"
          ]
        }
      ]
    },
    {
      "cell_type": "code",
      "metadata": {
        "id": "fvFvBLJV0Dkv"
      },
      "source": [
        "import numpy as np\n",
        "import pandas as pd\n",
        "from sklearn.model_selection import train_test_split\n",
        "from sklearn.linear_model import LogisticRegression\n",
        "from sklearn.model_selection import GridSearchCV\n",
        "from sklearn.model_selection import cross_val_score\n",
        "import torch\n",
        "import transformers as ppb\n",
        "import warnings\n",
        "warnings.filterwarnings('ignore')"
      ],
      "execution_count": 2,
      "outputs": []
    },
    {
      "cell_type": "markdown",
      "metadata": {
        "id": "zQ-42fh0hjsF"
      },
      "source": [
        "## Importing the dataset\n",
        "We'll use pandas to read the dataset and load it into a dataframe."
      ]
    },
    {
      "cell_type": "code",
      "source": [
        "animals = pd.read_csv('https://raw.githubusercontent.com/drussellmrichie/embeddings_and_optimal_experimental_design/main/animals_filtered_by_annotation.csv', index_col=0)\n",
        "animals"
      ],
      "metadata": {
        "id": "k8tPf52yrsfe",
        "outputId": "49d6afa4-00a2-4573-d710-8b0cc24ce9e6",
        "colab": {
          "base_uri": "https://localhost:8080/",
          "height": 488
        }
      },
      "execution_count": 11,
      "outputs": [
        {
          "output_type": "execute_result",
          "data": {
            "text/plain": [
              "                       0         1         2         3         4         5  \\\n",
              "aardvark       -0.010291  0.039846 -0.007158  0.170993 -0.036415  0.063595   \n",
              "abalone        -0.008497  0.008382 -0.049374 -0.034906 -0.011540 -0.055574   \n",
              "Aberdeen_Angus -0.061366  0.026231 -0.049815  0.076527  0.018410 -0.039948   \n",
              "Abyssinian_cat -0.074966 -0.060179  0.004900 -0.063617  0.005094  0.037139   \n",
              "addax          -0.008767  0.053873 -0.062767 -0.004606  0.021473 -0.061242   \n",
              "...                  ...       ...       ...       ...       ...       ...   \n",
              "zebra          -0.024826 -0.029791 -0.141293  0.069228  0.007270 -0.030784   \n",
              "zebra_finch     0.010021 -0.031437 -0.033323  0.038668 -0.049356 -0.003242   \n",
              "zebra_mussel    0.032304  0.133643 -0.013055  0.026994 -0.126563  0.039164   \n",
              "zebu           -0.022963  0.048568 -0.052023  0.097136 -0.061371 -0.024182   \n",
              "zooplankton     0.025643  0.035854 -0.057412 -0.025870 -0.044704 -0.001050   \n",
              "\n",
              "                       6         7         8         9  ...       290  \\\n",
              "aardvark        0.035096  0.034040 -0.003711 -0.064914  ... -0.023749   \n",
              "abalone        -0.072568 -0.024227 -0.012573 -0.005942  ...  0.043403   \n",
              "Aberdeen_Angus -0.007189  0.023103 -0.025028  0.064976  ...  0.032007   \n",
              "Abyssinian_cat  0.058803  0.024759 -0.035763 -0.030261  ...  0.069120   \n",
              "addax           0.029351 -0.040913 -0.048282 -0.015755  ... -0.066579   \n",
              "...                  ...       ...       ...       ...  ...       ...   \n",
              "zebra           0.044544 -0.034330 -0.076605 -0.020144  ... -0.036316   \n",
              "zebra_finch     0.006562 -0.000688  0.031752  0.044641  ...  0.000085   \n",
              "zebra_mussel   -0.109747  0.034517  0.054210 -0.010897  ... -0.027215   \n",
              "zebu           -0.002642 -0.036985 -0.039017 -0.001530  ... -0.029872   \n",
              "zooplankton     0.003007  0.032904 -0.079878  0.003220  ... -0.029046   \n",
              "\n",
              "                     291       292       293       294       295       296  \\\n",
              "aardvark        0.028367  0.016690  0.011479  0.015833  0.083913 -0.092885   \n",
              "abalone        -0.093695  0.030543  0.043173  0.082213 -0.015042  0.012286   \n",
              "Aberdeen_Angus -0.000613 -0.092411  0.087597  0.078453  0.010468  0.080859   \n",
              "Abyssinian_cat -0.067744  0.020375  0.041093  0.087345 -0.103164 -0.079780   \n",
              "addax           0.024903 -0.015311 -0.016264  0.056668  0.020711  0.009466   \n",
              "...                  ...       ...       ...       ...       ...       ...   \n",
              "zebra           0.053056 -0.024826 -0.002997  0.127107  0.111786  0.043693   \n",
              "zebra_finch     0.020277  0.005030 -0.045269  0.015168  0.040554  0.003360   \n",
              "zebra_mussel   -0.027215  0.026441  0.003402  0.040270 -0.023233 -0.086735   \n",
              "zebu           -0.004496 -0.060151  0.102826  0.045520  0.133309  0.002070   \n",
              "zooplankton     0.002071 -0.053554 -0.004227  0.051966 -0.039258  0.021898   \n",
              "\n",
              "                     297       298       299  \n",
              "aardvark        0.064650 -0.018735  0.057789  \n",
              "abalone         0.035365  0.031002 -0.039040  \n",
              "Aberdeen_Angus -0.006046  0.048852 -0.005204  \n",
              "Abyssinian_cat  0.130674  0.015217  0.043157  \n",
              "addax          -0.008259  0.032146  0.092499  \n",
              "...                  ...       ...       ...  \n",
              "zebra           0.006029  0.024684  0.000177  \n",
              "zebra_finch    -0.003380  0.016740  0.048727  \n",
              "zebra_mussel    0.045138  0.108419  0.035623  \n",
              "zebu           -0.005106  0.070719  0.005893  \n",
              "zooplankton    -0.001355  0.068531 -0.013559  \n",
              "\n",
              "[1734 rows x 300 columns]"
            ],
            "text/html": [
              "\n",
              "  <div id=\"df-8dc65376-f36f-4450-9808-aad4bf15a7f4\">\n",
              "    <div class=\"colab-df-container\">\n",
              "      <div>\n",
              "<style scoped>\n",
              "    .dataframe tbody tr th:only-of-type {\n",
              "        vertical-align: middle;\n",
              "    }\n",
              "\n",
              "    .dataframe tbody tr th {\n",
              "        vertical-align: top;\n",
              "    }\n",
              "\n",
              "    .dataframe thead th {\n",
              "        text-align: right;\n",
              "    }\n",
              "</style>\n",
              "<table border=\"1\" class=\"dataframe\">\n",
              "  <thead>\n",
              "    <tr style=\"text-align: right;\">\n",
              "      <th></th>\n",
              "      <th>0</th>\n",
              "      <th>1</th>\n",
              "      <th>2</th>\n",
              "      <th>3</th>\n",
              "      <th>4</th>\n",
              "      <th>5</th>\n",
              "      <th>6</th>\n",
              "      <th>7</th>\n",
              "      <th>8</th>\n",
              "      <th>9</th>\n",
              "      <th>...</th>\n",
              "      <th>290</th>\n",
              "      <th>291</th>\n",
              "      <th>292</th>\n",
              "      <th>293</th>\n",
              "      <th>294</th>\n",
              "      <th>295</th>\n",
              "      <th>296</th>\n",
              "      <th>297</th>\n",
              "      <th>298</th>\n",
              "      <th>299</th>\n",
              "    </tr>\n",
              "  </thead>\n",
              "  <tbody>\n",
              "    <tr>\n",
              "      <th>aardvark</th>\n",
              "      <td>-0.010291</td>\n",
              "      <td>0.039846</td>\n",
              "      <td>-0.007158</td>\n",
              "      <td>0.170993</td>\n",
              "      <td>-0.036415</td>\n",
              "      <td>0.063595</td>\n",
              "      <td>0.035096</td>\n",
              "      <td>0.034040</td>\n",
              "      <td>-0.003711</td>\n",
              "      <td>-0.064914</td>\n",
              "      <td>...</td>\n",
              "      <td>-0.023749</td>\n",
              "      <td>0.028367</td>\n",
              "      <td>0.016690</td>\n",
              "      <td>0.011479</td>\n",
              "      <td>0.015833</td>\n",
              "      <td>0.083913</td>\n",
              "      <td>-0.092885</td>\n",
              "      <td>0.064650</td>\n",
              "      <td>-0.018735</td>\n",
              "      <td>0.057789</td>\n",
              "    </tr>\n",
              "    <tr>\n",
              "      <th>abalone</th>\n",
              "      <td>-0.008497</td>\n",
              "      <td>0.008382</td>\n",
              "      <td>-0.049374</td>\n",
              "      <td>-0.034906</td>\n",
              "      <td>-0.011540</td>\n",
              "      <td>-0.055574</td>\n",
              "      <td>-0.072568</td>\n",
              "      <td>-0.024227</td>\n",
              "      <td>-0.012573</td>\n",
              "      <td>-0.005942</td>\n",
              "      <td>...</td>\n",
              "      <td>0.043403</td>\n",
              "      <td>-0.093695</td>\n",
              "      <td>0.030543</td>\n",
              "      <td>0.043173</td>\n",
              "      <td>0.082213</td>\n",
              "      <td>-0.015042</td>\n",
              "      <td>0.012286</td>\n",
              "      <td>0.035365</td>\n",
              "      <td>0.031002</td>\n",
              "      <td>-0.039040</td>\n",
              "    </tr>\n",
              "    <tr>\n",
              "      <th>Aberdeen_Angus</th>\n",
              "      <td>-0.061366</td>\n",
              "      <td>0.026231</td>\n",
              "      <td>-0.049815</td>\n",
              "      <td>0.076527</td>\n",
              "      <td>0.018410</td>\n",
              "      <td>-0.039948</td>\n",
              "      <td>-0.007189</td>\n",
              "      <td>0.023103</td>\n",
              "      <td>-0.025028</td>\n",
              "      <td>0.064976</td>\n",
              "      <td>...</td>\n",
              "      <td>0.032007</td>\n",
              "      <td>-0.000613</td>\n",
              "      <td>-0.092411</td>\n",
              "      <td>0.087597</td>\n",
              "      <td>0.078453</td>\n",
              "      <td>0.010468</td>\n",
              "      <td>0.080859</td>\n",
              "      <td>-0.006046</td>\n",
              "      <td>0.048852</td>\n",
              "      <td>-0.005204</td>\n",
              "    </tr>\n",
              "    <tr>\n",
              "      <th>Abyssinian_cat</th>\n",
              "      <td>-0.074966</td>\n",
              "      <td>-0.060179</td>\n",
              "      <td>0.004900</td>\n",
              "      <td>-0.063617</td>\n",
              "      <td>0.005094</td>\n",
              "      <td>0.037139</td>\n",
              "      <td>0.058803</td>\n",
              "      <td>0.024759</td>\n",
              "      <td>-0.035763</td>\n",
              "      <td>-0.030261</td>\n",
              "      <td>...</td>\n",
              "      <td>0.069120</td>\n",
              "      <td>-0.067744</td>\n",
              "      <td>0.020375</td>\n",
              "      <td>0.041093</td>\n",
              "      <td>0.087345</td>\n",
              "      <td>-0.103164</td>\n",
              "      <td>-0.079780</td>\n",
              "      <td>0.130674</td>\n",
              "      <td>0.015217</td>\n",
              "      <td>0.043157</td>\n",
              "    </tr>\n",
              "    <tr>\n",
              "      <th>addax</th>\n",
              "      <td>-0.008767</td>\n",
              "      <td>0.053873</td>\n",
              "      <td>-0.062767</td>\n",
              "      <td>-0.004606</td>\n",
              "      <td>0.021473</td>\n",
              "      <td>-0.061242</td>\n",
              "      <td>0.029351</td>\n",
              "      <td>-0.040913</td>\n",
              "      <td>-0.048282</td>\n",
              "      <td>-0.015755</td>\n",
              "      <td>...</td>\n",
              "      <td>-0.066579</td>\n",
              "      <td>0.024903</td>\n",
              "      <td>-0.015311</td>\n",
              "      <td>-0.016264</td>\n",
              "      <td>0.056668</td>\n",
              "      <td>0.020711</td>\n",
              "      <td>0.009466</td>\n",
              "      <td>-0.008259</td>\n",
              "      <td>0.032146</td>\n",
              "      <td>0.092499</td>\n",
              "    </tr>\n",
              "    <tr>\n",
              "      <th>...</th>\n",
              "      <td>...</td>\n",
              "      <td>...</td>\n",
              "      <td>...</td>\n",
              "      <td>...</td>\n",
              "      <td>...</td>\n",
              "      <td>...</td>\n",
              "      <td>...</td>\n",
              "      <td>...</td>\n",
              "      <td>...</td>\n",
              "      <td>...</td>\n",
              "      <td>...</td>\n",
              "      <td>...</td>\n",
              "      <td>...</td>\n",
              "      <td>...</td>\n",
              "      <td>...</td>\n",
              "      <td>...</td>\n",
              "      <td>...</td>\n",
              "      <td>...</td>\n",
              "      <td>...</td>\n",
              "      <td>...</td>\n",
              "      <td>...</td>\n",
              "    </tr>\n",
              "    <tr>\n",
              "      <th>zebra</th>\n",
              "      <td>-0.024826</td>\n",
              "      <td>-0.029791</td>\n",
              "      <td>-0.141293</td>\n",
              "      <td>0.069228</td>\n",
              "      <td>0.007270</td>\n",
              "      <td>-0.030784</td>\n",
              "      <td>0.044544</td>\n",
              "      <td>-0.034330</td>\n",
              "      <td>-0.076605</td>\n",
              "      <td>-0.020144</td>\n",
              "      <td>...</td>\n",
              "      <td>-0.036316</td>\n",
              "      <td>0.053056</td>\n",
              "      <td>-0.024826</td>\n",
              "      <td>-0.002997</td>\n",
              "      <td>0.127107</td>\n",
              "      <td>0.111786</td>\n",
              "      <td>0.043693</td>\n",
              "      <td>0.006029</td>\n",
              "      <td>0.024684</td>\n",
              "      <td>0.000177</td>\n",
              "    </tr>\n",
              "    <tr>\n",
              "      <th>zebra_finch</th>\n",
              "      <td>0.010021</td>\n",
              "      <td>-0.031437</td>\n",
              "      <td>-0.033323</td>\n",
              "      <td>0.038668</td>\n",
              "      <td>-0.049356</td>\n",
              "      <td>-0.003242</td>\n",
              "      <td>0.006562</td>\n",
              "      <td>-0.000688</td>\n",
              "      <td>0.031752</td>\n",
              "      <td>0.044641</td>\n",
              "      <td>...</td>\n",
              "      <td>0.000085</td>\n",
              "      <td>0.020277</td>\n",
              "      <td>0.005030</td>\n",
              "      <td>-0.045269</td>\n",
              "      <td>0.015168</td>\n",
              "      <td>0.040554</td>\n",
              "      <td>0.003360</td>\n",
              "      <td>-0.003380</td>\n",
              "      <td>0.016740</td>\n",
              "      <td>0.048727</td>\n",
              "    </tr>\n",
              "    <tr>\n",
              "      <th>zebra_mussel</th>\n",
              "      <td>0.032304</td>\n",
              "      <td>0.133643</td>\n",
              "      <td>-0.013055</td>\n",
              "      <td>0.026994</td>\n",
              "      <td>-0.126563</td>\n",
              "      <td>0.039164</td>\n",
              "      <td>-0.109747</td>\n",
              "      <td>0.034517</td>\n",
              "      <td>0.054210</td>\n",
              "      <td>-0.010897</td>\n",
              "      <td>...</td>\n",
              "      <td>-0.027215</td>\n",
              "      <td>-0.027215</td>\n",
              "      <td>0.026441</td>\n",
              "      <td>0.003402</td>\n",
              "      <td>0.040270</td>\n",
              "      <td>-0.023233</td>\n",
              "      <td>-0.086735</td>\n",
              "      <td>0.045138</td>\n",
              "      <td>0.108419</td>\n",
              "      <td>0.035623</td>\n",
              "    </tr>\n",
              "    <tr>\n",
              "      <th>zebu</th>\n",
              "      <td>-0.022963</td>\n",
              "      <td>0.048568</td>\n",
              "      <td>-0.052023</td>\n",
              "      <td>0.097136</td>\n",
              "      <td>-0.061371</td>\n",
              "      <td>-0.024182</td>\n",
              "      <td>-0.002642</td>\n",
              "      <td>-0.036985</td>\n",
              "      <td>-0.039017</td>\n",
              "      <td>-0.001530</td>\n",
              "      <td>...</td>\n",
              "      <td>-0.029872</td>\n",
              "      <td>-0.004496</td>\n",
              "      <td>-0.060151</td>\n",
              "      <td>0.102826</td>\n",
              "      <td>0.045520</td>\n",
              "      <td>0.133309</td>\n",
              "      <td>0.002070</td>\n",
              "      <td>-0.005106</td>\n",
              "      <td>0.070719</td>\n",
              "      <td>0.005893</td>\n",
              "    </tr>\n",
              "    <tr>\n",
              "      <th>zooplankton</th>\n",
              "      <td>0.025643</td>\n",
              "      <td>0.035854</td>\n",
              "      <td>-0.057412</td>\n",
              "      <td>-0.025870</td>\n",
              "      <td>-0.044704</td>\n",
              "      <td>-0.001050</td>\n",
              "      <td>0.003007</td>\n",
              "      <td>0.032904</td>\n",
              "      <td>-0.079878</td>\n",
              "      <td>0.003220</td>\n",
              "      <td>...</td>\n",
              "      <td>-0.029046</td>\n",
              "      <td>0.002071</td>\n",
              "      <td>-0.053554</td>\n",
              "      <td>-0.004227</td>\n",
              "      <td>0.051966</td>\n",
              "      <td>-0.039258</td>\n",
              "      <td>0.021898</td>\n",
              "      <td>-0.001355</td>\n",
              "      <td>0.068531</td>\n",
              "      <td>-0.013559</td>\n",
              "    </tr>\n",
              "  </tbody>\n",
              "</table>\n",
              "<p>1734 rows × 300 columns</p>\n",
              "</div>\n",
              "      <button class=\"colab-df-convert\" onclick=\"convertToInteractive('df-8dc65376-f36f-4450-9808-aad4bf15a7f4')\"\n",
              "              title=\"Convert this dataframe to an interactive table.\"\n",
              "              style=\"display:none;\">\n",
              "        \n",
              "  <svg xmlns=\"http://www.w3.org/2000/svg\" height=\"24px\"viewBox=\"0 0 24 24\"\n",
              "       width=\"24px\">\n",
              "    <path d=\"M0 0h24v24H0V0z\" fill=\"none\"/>\n",
              "    <path d=\"M18.56 5.44l.94 2.06.94-2.06 2.06-.94-2.06-.94-.94-2.06-.94 2.06-2.06.94zm-11 1L8.5 8.5l.94-2.06 2.06-.94-2.06-.94L8.5 2.5l-.94 2.06-2.06.94zm10 10l.94 2.06.94-2.06 2.06-.94-2.06-.94-.94-2.06-.94 2.06-2.06.94z\"/><path d=\"M17.41 7.96l-1.37-1.37c-.4-.4-.92-.59-1.43-.59-.52 0-1.04.2-1.43.59L10.3 9.45l-7.72 7.72c-.78.78-.78 2.05 0 2.83L4 21.41c.39.39.9.59 1.41.59.51 0 1.02-.2 1.41-.59l7.78-7.78 2.81-2.81c.8-.78.8-2.07 0-2.86zM5.41 20L4 18.59l7.72-7.72 1.47 1.35L5.41 20z\"/>\n",
              "  </svg>\n",
              "      </button>\n",
              "      \n",
              "  <style>\n",
              "    .colab-df-container {\n",
              "      display:flex;\n",
              "      flex-wrap:wrap;\n",
              "      gap: 12px;\n",
              "    }\n",
              "\n",
              "    .colab-df-convert {\n",
              "      background-color: #E8F0FE;\n",
              "      border: none;\n",
              "      border-radius: 50%;\n",
              "      cursor: pointer;\n",
              "      display: none;\n",
              "      fill: #1967D2;\n",
              "      height: 32px;\n",
              "      padding: 0 0 0 0;\n",
              "      width: 32px;\n",
              "    }\n",
              "\n",
              "    .colab-df-convert:hover {\n",
              "      background-color: #E2EBFA;\n",
              "      box-shadow: 0px 1px 2px rgba(60, 64, 67, 0.3), 0px 1px 3px 1px rgba(60, 64, 67, 0.15);\n",
              "      fill: #174EA6;\n",
              "    }\n",
              "\n",
              "    [theme=dark] .colab-df-convert {\n",
              "      background-color: #3B4455;\n",
              "      fill: #D2E3FC;\n",
              "    }\n",
              "\n",
              "    [theme=dark] .colab-df-convert:hover {\n",
              "      background-color: #434B5C;\n",
              "      box-shadow: 0px 1px 3px 1px rgba(0, 0, 0, 0.15);\n",
              "      filter: drop-shadow(0px 1px 2px rgba(0, 0, 0, 0.3));\n",
              "      fill: #FFFFFF;\n",
              "    }\n",
              "  </style>\n",
              "\n",
              "      <script>\n",
              "        const buttonEl =\n",
              "          document.querySelector('#df-8dc65376-f36f-4450-9808-aad4bf15a7f4 button.colab-df-convert');\n",
              "        buttonEl.style.display =\n",
              "          google.colab.kernel.accessAllowed ? 'block' : 'none';\n",
              "\n",
              "        async function convertToInteractive(key) {\n",
              "          const element = document.querySelector('#df-8dc65376-f36f-4450-9808-aad4bf15a7f4');\n",
              "          const dataTable =\n",
              "            await google.colab.kernel.invokeFunction('convertToInteractive',\n",
              "                                                     [key], {});\n",
              "          if (!dataTable) return;\n",
              "\n",
              "          const docLinkHtml = 'Like what you see? Visit the ' +\n",
              "            '<a target=\"_blank\" href=https://colab.research.google.com/notebooks/data_table.ipynb>data table notebook</a>'\n",
              "            + ' to learn more about interactive tables.';\n",
              "          element.innerHTML = '';\n",
              "          dataTable['output_type'] = 'display_data';\n",
              "          await google.colab.output.renderOutput(dataTable, element);\n",
              "          const docLink = document.createElement('div');\n",
              "          docLink.innerHTML = docLinkHtml;\n",
              "          element.appendChild(docLink);\n",
              "        }\n",
              "      </script>\n",
              "    </div>\n",
              "  </div>\n",
              "  "
            ]
          },
          "metadata": {},
          "execution_count": 11
        }
      ]
    },
    {
      "cell_type": "code",
      "metadata": {
        "id": "cyoj29J24hPX"
      },
      "source": [
        "df = pd.read_csv('https://github.com/clairett/pytorch-sentiment-classification/raw/master/data/SST2/train.tsv', delimiter='\\t', header=None)"
      ],
      "execution_count": 3,
      "outputs": []
    },
    {
      "cell_type": "markdown",
      "metadata": {
        "id": "PRc2L89hh1Tf"
      },
      "source": [
        "We can ask pandas how many sentences are labeled as \"positive\" (value 1) and how many are labeled \"negative\" (having the value 0)"
      ]
    },
    {
      "cell_type": "code",
      "metadata": {
        "id": "jGvcfcCP5xpZ",
        "outputId": "4c4a8afc-1035-4b21-ba9a-c4bb6cfc6347",
        "colab": {
          "base_uri": "https://localhost:8080/",
          "height": 68
        }
      },
      "source": [
        "batch_1[1].value_counts()"
      ],
      "execution_count": null,
      "outputs": [
        {
          "output_type": "execute_result",
          "data": {
            "text/plain": [
              "1    1041\n",
              "0     959\n",
              "Name: 1, dtype: int64"
            ]
          },
          "metadata": {
            "tags": []
          },
          "execution_count": 5
        }
      ]
    },
    {
      "cell_type": "markdown",
      "metadata": {
        "id": "7_MO08_KiAOb"
      },
      "source": [
        "## Loading the Pre-trained BERT model\n",
        "Let's now load a pre-trained BERT model. "
      ]
    },
    {
      "cell_type": "code",
      "metadata": {
        "id": "q1InADgf5xm2",
        "outputId": "dbc52856-4d52-42f8-8a74-a89944280a02",
        "colab": {
          "base_uri": "https://localhost:8080/",
          "height": 68
        }
      },
      "source": [
        "# For DistilBERT:\n",
        "model_class, tokenizer_class, pretrained_weights = (ppb.DistilBertModel, ppb.DistilBertTokenizer, 'distilbert-base-uncased')\n",
        "\n",
        "## Want BERT instead of distilBERT? Uncomment the following line:\n",
        "#model_class, tokenizer_class, pretrained_weights = (ppb.BertModel, ppb.BertTokenizer, 'bert-base-uncased')\n",
        "\n",
        "# Load pretrained model/tokenizer\n",
        "tokenizer = tokenizer_class.from_pretrained(pretrained_weights)\n",
        "model = model_class.from_pretrained(pretrained_weights)"
      ],
      "execution_count": null,
      "outputs": [
        {
          "output_type": "stream",
          "text": [
            "100%|██████████| 231508/231508 [00:00<00:00, 2649246.11B/s]\n",
            "100%|██████████| 492/492 [00:00<00:00, 284634.15B/s]\n",
            "100%|██████████| 267967963/267967963 [00:03<00:00, 72728701.55B/s]\n"
          ],
          "name": "stderr"
        }
      ]
    },
    {
      "cell_type": "markdown",
      "metadata": {
        "id": "lZDBMn3wiSX6"
      },
      "source": [
        "Right now, the variable `model` holds a pretrained distilBERT model -- a version of BERT that is smaller, but much faster and requiring a lot less memory.\n",
        "\n",
        "## Model #1: Preparing the Dataset\n",
        "Before we can hand our sentences to BERT, we need to do some minimal processing to put them in the format it requires.\n",
        "\n",
        "### Tokenization\n",
        "Our first step is to tokenize the sentences -- break them up into word and subwords in the format BERT is comfortable with."
      ]
    },
    {
      "cell_type": "code",
      "metadata": {
        "id": "Dg82ndBA5xlN"
      },
      "source": [
        "tokenized = batch_1[0].apply((lambda x: tokenizer.encode(x, add_special_tokens=True)))"
      ],
      "execution_count": null,
      "outputs": []
    },
    {
      "cell_type": "markdown",
      "metadata": {
        "id": "mHwjUwYgi-uL"
      },
      "source": [
        "<img src=\"https://jalammar.github.io/images/distilBERT/bert-distilbert-tokenization-2-token-ids.png\" />\n",
        "\n",
        "### Padding\n",
        "After tokenization, `tokenized` is a list of sentences -- each sentences is represented as a list of tokens. We want BERT to process our examples all at once (as one batch). It's just faster that way. For that reason, we need to pad all lists to the same size, so we can represent the input as one 2-d array, rather than a list of lists (of different lengths)."
      ]
    },
    {
      "cell_type": "code",
      "metadata": {
        "id": "URn-DWJt5xhP"
      },
      "source": [
        "max_len = 0\n",
        "for i in tokenized.values:\n",
        "    if len(i) > max_len:\n",
        "        max_len = len(i)\n",
        "\n",
        "padded = np.array([i + [0]*(max_len-len(i)) for i in tokenized.values])"
      ],
      "execution_count": null,
      "outputs": []
    },
    {
      "cell_type": "markdown",
      "metadata": {
        "id": "Mdjg306wjjmL"
      },
      "source": [
        "Our dataset is now in the `padded` variable, we can view its dimensions below:"
      ]
    },
    {
      "cell_type": "code",
      "metadata": {
        "id": "jdi7uXo95xeq",
        "outputId": "be786022-e84f-4e28-8531-0143af2347bc",
        "colab": {
          "base_uri": "https://localhost:8080/",
          "height": 34
        }
      },
      "source": [
        "np.array(padded).shape"
      ],
      "execution_count": null,
      "outputs": [
        {
          "output_type": "execute_result",
          "data": {
            "text/plain": [
              "(2000, 59)"
            ]
          },
          "metadata": {
            "tags": []
          },
          "execution_count": 9
        }
      ]
    },
    {
      "cell_type": "markdown",
      "metadata": {
        "id": "sDZBsYSDjzDV"
      },
      "source": [
        "### Masking\n",
        "If we directly send `padded` to BERT, that would slightly confuse it. We need to create another variable to tell it to ignore (mask) the padding we've added when it's processing its input. That's what attention_mask is:"
      ]
    },
    {
      "cell_type": "code",
      "metadata": {
        "id": "4K_iGRNa_Ozc",
        "outputId": "d03b0a9b-1f6e-4e32-831e-b04f5389e57c",
        "colab": {
          "base_uri": "https://localhost:8080/",
          "height": 34
        }
      },
      "source": [
        "attention_mask = np.where(padded != 0, 1, 0)\n",
        "attention_mask.shape"
      ],
      "execution_count": null,
      "outputs": [
        {
          "output_type": "execute_result",
          "data": {
            "text/plain": [
              "(2000, 59)"
            ]
          },
          "metadata": {
            "tags": []
          },
          "execution_count": 10
        }
      ]
    },
    {
      "cell_type": "markdown",
      "metadata": {
        "id": "jK-CQB9-kN99"
      },
      "source": [
        "## Model #1: And Now, Deep Learning!\n",
        "Now that we have our model and inputs ready, let's run our model!\n",
        "\n",
        "<img src=\"https://jalammar.github.io/images/distilBERT/bert-distilbert-tutorial-sentence-embedding.png\" />\n",
        "\n",
        "The `model()` function runs our sentences through BERT. The results of the processing will be returned into `last_hidden_states`."
      ]
    },
    {
      "cell_type": "code",
      "metadata": {
        "id": "39UVjAV56PJz"
      },
      "source": [
        "input_ids = torch.tensor(padded)  \n",
        "attention_mask = torch.tensor(attention_mask)\n",
        "\n",
        "with torch.no_grad():\n",
        "    last_hidden_states = model(input_ids, attention_mask=attention_mask)"
      ],
      "execution_count": null,
      "outputs": []
    },
    {
      "cell_type": "markdown",
      "metadata": {
        "id": "FoCep_WVuB3v"
      },
      "source": [
        "Let's slice only the part of the output that we need. That is the output corresponding the first token of each sentence. The way BERT does sentence classification, is that it adds a token called `[CLS]` (for classification) at the beginning of every sentence. The output corresponding to that token can be thought of as an embedding for the entire sentence.\n",
        "\n",
        "<img src=\"https://jalammar.github.io/images/distilBERT/bert-output-tensor-selection.png\" />\n",
        "\n",
        "We'll save those in the `features` variable, as they'll serve as the features to our logitics regression model."
      ]
    },
    {
      "cell_type": "code",
      "metadata": {
        "id": "C9t60At16PVs"
      },
      "source": [
        "features = last_hidden_states[0][:,0,:].numpy()"
      ],
      "execution_count": null,
      "outputs": []
    },
    {
      "cell_type": "markdown",
      "metadata": {
        "id": "_VZVU66Gurr-"
      },
      "source": [
        "The labels indicating which sentence is positive and negative now go into the `labels` variable"
      ]
    },
    {
      "cell_type": "code",
      "metadata": {
        "id": "JD3fX2yh6PTx"
      },
      "source": [
        "labels = batch_1[1]"
      ],
      "execution_count": null,
      "outputs": []
    },
    {
      "cell_type": "markdown",
      "metadata": {
        "id": "iaoEvM2evRx1"
      },
      "source": [
        "## Model #2: Train/Test Split\n",
        "Let's now split our datset into a training set and testing set (even though we're using 2,000 sentences from the SST2 training set)."
      ]
    },
    {
      "cell_type": "code",
      "metadata": {
        "id": "ddAqbkoU6PP9"
      },
      "source": [
        "train_features, test_features, train_labels, test_labels = train_test_split(features, labels)"
      ],
      "execution_count": null,
      "outputs": []
    },
    {
      "cell_type": "markdown",
      "metadata": {
        "id": "B9bhSJpcv1Bl"
      },
      "source": [
        "<img src=\"https://jalammar.github.io/images/distilBERT/bert-distilbert-train-test-split-sentence-embedding.png\" />\n",
        "\n",
        "### [Bonus] Grid Search for Parameters\n",
        "We can dive into Logistic regression directly with the Scikit Learn default parameters, but sometimes it's worth searching for the best value of the C parameter, which determines regularization strength."
      ]
    },
    {
      "cell_type": "code",
      "metadata": {
        "id": "cyEwr7yYD3Ci"
      },
      "source": [
        "# parameters = {'C': np.linspace(0.0001, 100, 20)}\n",
        "# grid_search = GridSearchCV(LogisticRegression(), parameters)\n",
        "# grid_search.fit(train_features, train_labels)\n",
        "\n",
        "# print('best parameters: ', grid_search.best_params_)\n",
        "# print('best scrores: ', grid_search.best_score_)"
      ],
      "execution_count": null,
      "outputs": []
    },
    {
      "cell_type": "markdown",
      "metadata": {
        "id": "KCT9u8vAwnID"
      },
      "source": [
        "We now train the LogisticRegression model. If you've chosen to do the gridsearch, you can plug the value of C into the model declaration (e.g. `LogisticRegression(C=5.2)`)."
      ]
    },
    {
      "cell_type": "code",
      "metadata": {
        "id": "gG-EVWx4CzBc",
        "outputId": "9252ceff-a7d0-4359-fef9-2f72be89c7d6",
        "colab": {
          "base_uri": "https://localhost:8080/",
          "height": 102
        }
      },
      "source": [
        "lr_clf = LogisticRegression()\n",
        "lr_clf.fit(train_features, train_labels)"
      ],
      "execution_count": null,
      "outputs": [
        {
          "output_type": "execute_result",
          "data": {
            "text/plain": [
              "LogisticRegression(C=1.0, class_weight=None, dual=False, fit_intercept=True,\n",
              "                   intercept_scaling=1, l1_ratio=None, max_iter=100,\n",
              "                   multi_class='warn', n_jobs=None, penalty='l2',\n",
              "                   random_state=None, solver='warn', tol=0.0001, verbose=0,\n",
              "                   warm_start=False)"
            ]
          },
          "metadata": {
            "tags": []
          },
          "execution_count": 21
        }
      ]
    },
    {
      "cell_type": "markdown",
      "metadata": {
        "id": "3rUMKuVgwzkY"
      },
      "source": [
        "<img src=\"https://jalammar.github.io/images/distilBERT/bert-training-logistic-regression.png\" />\n",
        "\n",
        "## Evaluating Model #2\n",
        "So how well does our model do in classifying sentences? One way is to check the accuracy against the testing dataset:"
      ]
    },
    {
      "cell_type": "code",
      "metadata": {
        "id": "iCoyxRJ7ECTA",
        "outputId": "cfd86dea-5d16-476c-ab9b-47cbee3a014f",
        "colab": {
          "base_uri": "https://localhost:8080/",
          "height": 34
        }
      },
      "source": [
        "lr_clf.score(test_features, test_labels)"
      ],
      "execution_count": null,
      "outputs": [
        {
          "output_type": "execute_result",
          "data": {
            "text/plain": [
              "0.824"
            ]
          },
          "metadata": {
            "tags": []
          },
          "execution_count": 22
        }
      ]
    },
    {
      "cell_type": "markdown",
      "metadata": {
        "id": "75oyhr3VxHoE"
      },
      "source": [
        "How good is this score? What can we compare it against? Let's first look at a dummy classifier:"
      ]
    },
    {
      "cell_type": "code",
      "metadata": {
        "id": "lnwgmqNG7i5l",
        "outputId": "0042aed2-4fa8-4fa0-bf25-fdef70a10aac",
        "colab": {
          "base_uri": "https://localhost:8080/",
          "height": 34
        }
      },
      "source": [
        "from sklearn.dummy import DummyClassifier\n",
        "clf = DummyClassifier()\n",
        "\n",
        "scores = cross_val_score(clf, train_features, train_labels)\n",
        "print(\"Dummy classifier score: %0.3f (+/- %0.2f)\" % (scores.mean(), scores.std() * 2))"
      ],
      "execution_count": null,
      "outputs": [
        {
          "output_type": "stream",
          "text": [
            "Dummy classifier score: 0.527 (+/- 0.05)\n"
          ],
          "name": "stdout"
        }
      ]
    },
    {
      "cell_type": "markdown",
      "metadata": {
        "id": "7Lg4LOpoxSOR"
      },
      "source": [
        "So our model clearly does better than a dummy classifier. But how does it compare against the best models?\n",
        "\n",
        "## Proper SST2 scores\n",
        "For reference, the [highest accuracy score](http://nlpprogress.com/english/sentiment_analysis.html) for this dataset is currently **96.8**. DistilBERT can be trained to improve its score on this task – a process called **fine-tuning** which updates BERT’s weights to make it achieve a better performance in this sentence classification task (which we can call the downstream task). The fine-tuned DistilBERT turns out to achieve an accuracy score of **90.7**. The full size BERT model achieves **94.9**.\n",
        "\n",
        "\n",
        "\n",
        "And that’s it! That’s a good first contact with BERT. The next step would be to head over to the documentation and try your hand at [fine-tuning](https://huggingface.co/transformers/examples.html#glue). You can also go back and switch from distilBERT to BERT and see how that works."
      ]
    },
    {
      "cell_type": "code",
      "metadata": {
        "id": "EJQuqV6cnWQu"
      },
      "source": [],
      "execution_count": null,
      "outputs": []
    }
  ]
}